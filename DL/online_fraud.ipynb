{
 "cells": [
  {
   "cell_type": "code",
   "execution_count": 1,
   "id": "9fccf220",
   "metadata": {},
   "outputs": [
    {
     "name": "stdout",
     "output_type": "stream",
     "text": [
      "Number of Anomalies Detected: 17\n"
     ]
    }
   ],
   "source": [
    "import pandas as pd\n",
    "from sklearn.ensemble import IsolationForest\n",
    "from sklearn.model_selection import train_test_split\n",
    "data = pd.read_csv('C://Users//STUDENT//Downloads//archive (2)//AMZN.csv')\n",
    "features = ['Adj Close', 'Volume']\n",
    "train_data, test_data = train_test_split(data[features], test_size=0.2, random_state=42)\n",
    "model = IsolationForest(contamination=0.05)\n",
    "model.fit(train_data)\n",
    "predictions = model.predict(test_data)\n",
    "num_anomalies = len(predictions[predictions == -1])\n",
    "print(\"Number of Anomalies Detected:\", num_anomalies)"
   ]
  },
  {
   "cell_type": "code",
   "execution_count": null,
   "id": "9b73dc59",
   "metadata": {},
   "outputs": [],
   "source": []
  }
 ],
 "metadata": {
  "kernelspec": {
   "display_name": "Python 3 (ipykernel)",
   "language": "python",
   "name": "python3"
  },
  "language_info": {
   "codemirror_mode": {
    "name": "ipython",
    "version": 3
   },
   "file_extension": ".py",
   "mimetype": "text/x-python",
   "name": "python",
   "nbconvert_exporter": "python",
   "pygments_lexer": "ipython3",
   "version": "3.11.4"
  }
 },
 "nbformat": 4,
 "nbformat_minor": 5
}
