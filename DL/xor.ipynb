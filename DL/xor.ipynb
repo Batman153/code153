{
 "cells": [
  {
   "cell_type": "code",
   "execution_count": 1,
   "id": "9d71e8a6",
   "metadata": {},
   "outputs": [
    {
     "name": "stdout",
     "output_type": "stream",
     "text": [
      "WARNING:tensorflow:From C:\\Users\\STUDENT\\AppData\\Roaming\\Python\\Python311\\site-packages\\keras\\src\\losses.py:2976: The name tf.losses.sparse_softmax_cross_entropy is deprecated. Please use tf.compat.v1.losses.sparse_softmax_cross_entropy instead.\n",
      "\n",
      "WARNING:tensorflow:From C:\\Users\\STUDENT\\AppData\\Roaming\\Python\\Python311\\site-packages\\keras\\src\\backend.py:873: The name tf.get_default_graph is deprecated. Please use tf.compat.v1.get_default_graph instead.\n",
      "\n",
      "WARNING:tensorflow:From C:\\Users\\STUDENT\\AppData\\Roaming\\Python\\Python311\\site-packages\\keras\\src\\optimizers\\__init__.py:309: The name tf.train.Optimizer is deprecated. Please use tf.compat.v1.train.Optimizer instead.\n",
      "\n",
      "Epoch 1/3\n",
      "WARNING:tensorflow:From C:\\Users\\STUDENT\\AppData\\Roaming\\Python\\Python311\\site-packages\\keras\\src\\utils\\tf_utils.py:492: The name tf.ragged.RaggedTensorValue is deprecated. Please use tf.compat.v1.ragged.RaggedTensorValue instead.\n",
      "\n",
      "WARNING:tensorflow:From C:\\Users\\STUDENT\\AppData\\Roaming\\Python\\Python311\\site-packages\\keras\\src\\engine\\base_layer_utils.py:384: The name tf.executing_eagerly_outside_functions is deprecated. Please use tf.compat.v1.executing_eagerly_outside_functions instead.\n",
      "\n",
      "1/1 [==============================] - 0s 398ms/step - loss: 7.7125 - accuracy: 0.5000\n",
      "Epoch 2/3\n",
      "1/1 [==============================] - 0s 3ms/step - loss: 7.7125 - accuracy: 0.5000\n",
      "Epoch 3/3\n",
      "1/1 [==============================] - 0s 0s/step - loss: 7.7125 - accuracy: 0.5000\n",
      "1/1 [==============================] - 0s 107ms/step - loss: 7.7125 - accuracy: 0.5000\n",
      "Loss: 7.712474346160889, Accuracy: 0.5\n",
      "1/1 [==============================] - 0s 53ms/step\n",
      "[[0.]\n",
      " [0.]\n",
      " [0.]\n",
      " [0.]]\n",
      "Input: [0 0], Predicted Output: [0.]\n",
      "Input: [0 1], Predicted Output: [0.]\n",
      "Input: [1 0], Predicted Output: [0.]\n",
      "Input: [1 1], Predicted Output: [0.]\n"
     ]
    }
   ],
   "source": [
    " import numpy as np \n",
    "from keras.models import Sequential \n",
    "from keras.layers import Dense \n",
    "X_train = np.array([[0, 0], [0, 1], [1, 0], [1, 1]]) \n",
    "y_train = np.array([[0], [1], [1], [0]]) \n",
    "model = Sequential() \n",
    "model.add(Dense(1, input_dim=2, activation='relu')) # Hidden layer with 8 neurons model.add(Dense(1, activation='sigmoid')) # Output layer with 1 neuron \n",
    "model.compile(loss='binary_crossentropy', optimizer='adam', metrics=['accuracy']) \n",
    "model.fit(X_train, y_train, epochs=3, batch_size=4) \n",
    "loss, accuracy = model.evaluate(X_train, y_train) \n",
    "print(f\"Loss: {loss}, Accuracy: {accuracy}\") \n",
    "X_test = np.array([[0, 0], [0, 1], [1, 0], [1, 1]]) \n",
    "predictions = model.predict(X_test) \n",
    "print(predictions) \n",
    "for i in range(len(X_test)): \n",
    "    print(f\"Input: {X_test[i]}, Predicted Output: {predictions[i]}\")"
   ]
  },
  {
   "cell_type": "code",
   "execution_count": null,
   "id": "65dceb56",
   "metadata": {},
   "outputs": [],
   "source": []
  }
 ],
 "metadata": {
  "kernelspec": {
   "display_name": "Python 3 (ipykernel)",
   "language": "python",
   "name": "python3"
  },
  "language_info": {
   "codemirror_mode": {
    "name": "ipython",
    "version": 3
   },
   "file_extension": ".py",
   "mimetype": "text/x-python",
   "name": "python",
   "nbconvert_exporter": "python",
   "pygments_lexer": "ipython3",
   "version": "3.11.4"
  }
 },
 "nbformat": 4,
 "nbformat_minor": 5
}
