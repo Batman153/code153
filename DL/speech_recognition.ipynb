{
 "cells": [
  {
   "cell_type": "code",
   "execution_count": 1,
   "id": "3b112fdf",
   "metadata": {},
   "outputs": [
    {
     "name": "stdout",
     "output_type": "stream",
     "text": [
      "WARNING:tensorflow:From C:\\Users\\STUDENT\\AppData\\Roaming\\Python\\Python311\\site-packages\\keras\\src\\losses.py:2976: The name tf.losses.sparse_softmax_cross_entropy is deprecated. Please use tf.compat.v1.losses.sparse_softmax_cross_entropy instead.\n",
      "\n",
      "WARNING:tensorflow:From C:\\Users\\STUDENT\\AppData\\Roaming\\Python\\Python311\\site-packages\\keras\\src\\backend.py:1398: The name tf.executing_eagerly_outside_functions is deprecated. Please use tf.compat.v1.executing_eagerly_outside_functions instead.\n",
      "\n",
      "WARNING:tensorflow:From C:\\Users\\STUDENT\\AppData\\Roaming\\Python\\Python311\\site-packages\\keras\\src\\optimizers\\__init__.py:309: The name tf.train.Optimizer is deprecated. Please use tf.compat.v1.train.Optimizer instead.\n",
      "\n",
      "Epoch 1/5\n",
      "WARNING:tensorflow:From C:\\Users\\STUDENT\\AppData\\Roaming\\Python\\Python311\\site-packages\\keras\\src\\utils\\tf_utils.py:492: The name tf.ragged.RaggedTensorValue is deprecated. Please use tf.compat.v1.ragged.RaggedTensorValue instead.\n",
      "\n",
      "WARNING:tensorflow:From C:\\Users\\STUDENT\\AppData\\Roaming\\Python\\Python311\\site-packages\\keras\\src\\engine\\base_layer_utils.py:384: The name tf.executing_eagerly_outside_functions is deprecated. Please use tf.compat.v1.executing_eagerly_outside_functions instead.\n",
      "\n",
      "4/4 [==============================] - 2s 34ms/step - loss: 105.4204 - accuracy: 0.0900\n",
      "Epoch 2/5\n",
      "4/4 [==============================] - 0s 31ms/step - loss: 105.5976 - accuracy: 0.0900\n",
      "Epoch 3/5\n",
      "4/4 [==============================] - 0s 32ms/step - loss: 110.7590 - accuracy: 0.0900\n",
      "Epoch 4/5\n",
      "4/4 [==============================] - 0s 30ms/step - loss: 116.7133 - accuracy: 0.0900\n",
      "Epoch 5/5\n",
      "4/4 [==============================] - 0s 30ms/step - loss: 119.6411 - accuracy: 0.0900\n",
      "1/1 [==============================] - 0s 324ms/step\n",
      "Predicted Word Index: 4\n"
     ]
    }
   ],
   "source": [
    "import tensorflow as tf\n",
    "from tensorflow.keras.layers import Input, Embedding, LSTM, Dense\n",
    "from tensorflow.keras.models import Model\n",
    "import numpy as np\n",
    "\n",
    "sample_audio_features = np.random.rand(100, 100)\n",
    "input_layer = Input(shape=(100,))\n",
    "embedding = Embedding(input_dim=10000, output_dim=128)(input_layer) \n",
    "lstm = LSTM(128)(embedding)\n",
    "output_layer = Dense(10, activation='softmax')(lstm)\n",
    "speech_recognition_model = Model(inputs=input_layer, outputs=output_layer)\n",
    "speech_recognition_model.compile(optimizer='adam', loss='categorical_crossentropy', metrics=['accuracy'])\n",
    "sample_labels = np.random.randint(10, size=(100, 10))\n",
    "speech_recognition_model.fit(sample_audio_features, sample_labels, epochs=5, batch_size=32)\n",
    "sample_input_audio = np.random.rand(1, 100)\n",
    "predicted_probs = speech_recognition_model.predict(sample_input_audio)\n",
    "predicted_word_index = np.argmax(predicted_probs)\n",
    "print(\"Predicted Word Index:\", predicted_word_index)"
   ]
  },
  {
   "cell_type": "code",
   "execution_count": null,
   "id": "738422c0",
   "metadata": {},
   "outputs": [],
   "source": []
  }
 ],
 "metadata": {
  "kernelspec": {
   "display_name": "Python 3 (ipykernel)",
   "language": "python",
   "name": "python3"
  },
  "language_info": {
   "codemirror_mode": {
    "name": "ipython",
    "version": 3
   },
   "file_extension": ".py",
   "mimetype": "text/x-python",
   "name": "python",
   "nbconvert_exporter": "python",
   "pygments_lexer": "ipython3",
   "version": "3.11.4"
  }
 },
 "nbformat": 4,
 "nbformat_minor": 5
}
