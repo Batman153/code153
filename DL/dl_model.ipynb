{
 "cells": [
  {
   "cell_type": "code",
   "execution_count": 1,
   "id": "5c8276c6",
   "metadata": {},
   "outputs": [
    {
     "name": "stdout",
     "output_type": "stream",
     "text": [
      "WARNING:tensorflow:From C:\\Users\\STUDENT\\AppData\\Roaming\\Python\\Python311\\site-packages\\keras\\src\\losses.py:2976: The name tf.losses.sparse_softmax_cross_entropy is deprecated. Please use tf.compat.v1.losses.sparse_softmax_cross_entropy instead.\n",
      "\n",
      "WARNING:tensorflow:From C:\\Users\\STUDENT\\AppData\\Roaming\\Python\\Python311\\site-packages\\keras\\src\\backend.py:873: The name tf.get_default_graph is deprecated. Please use tf.compat.v1.get_default_graph instead.\n",
      "\n",
      "WARNING:tensorflow:From C:\\Users\\STUDENT\\AppData\\Roaming\\Python\\Python311\\site-packages\\keras\\src\\optimizers\\__init__.py:309: The name tf.train.Optimizer is deprecated. Please use tf.compat.v1.train.Optimizer instead.\n",
      "\n",
      "Epoch 1/3\n",
      "WARNING:tensorflow:From C:\\Users\\STUDENT\\AppData\\Roaming\\Python\\Python311\\site-packages\\keras\\src\\utils\\tf_utils.py:492: The name tf.ragged.RaggedTensorValue is deprecated. Please use tf.compat.v1.ragged.RaggedTensorValue instead.\n",
      "\n",
      "WARNING:tensorflow:From C:\\Users\\STUDENT\\AppData\\Roaming\\Python\\Python311\\site-packages\\keras\\src\\engine\\base_layer_utils.py:384: The name tf.executing_eagerly_outside_functions is deprecated. Please use tf.compat.v1.executing_eagerly_outside_functions instead.\n",
      "\n",
      "25/25 [==============================] - 1s 1ms/step - loss: 0.7073 - accuracy: 0.5000\n",
      "Epoch 2/3\n",
      "25/25 [==============================] - 0s 1ms/step - loss: 0.6909 - accuracy: 0.5213\n",
      "Epoch 3/3\n",
      "25/25 [==============================] - 0s 970us/step - loss: 0.6806 - accuracy: 0.5775\n",
      "7/7 [==============================] - 0s 2ms/step - loss: 0.6916 - accuracy: 0.5300\n",
      "Test Loss: 0.6915582418441772\n",
      "Test Accuracy: 0.5299999713897705\n"
     ]
    }
   ],
   "source": [
    "import numpy as np\n",
    "import tensorflow as tf\n",
    "from tensorflow.keras.models import Sequential\n",
    "from tensorflow.keras.layers import Dense\n",
    "\n",
    "# Generate synthetic data for binary classification\n",
    "np.random.seed(0)\n",
    "X = np.random.randn(1000, 10)  # 1000 samples with 10 features\n",
    "y = np.random.randint(2, size=1000)  # Binary labels (0 or 1)\n",
    "\n",
    "# Split data into training and testing sets\n",
    "X_train, X_test = X[:800], X[800:]\n",
    "y_train, y_test = y[:800], y[800:]\n",
    "\n",
    "# Step 1: Define the architecture of the neural network\n",
    "input_dim = X_train.shape[1]  # Number of features\n",
    "hidden_layers = 2\n",
    "neurons_per_layer = 64\n",
    "activation_function = 'relu'\n",
    "output_dim = 1  # Binary classification\n",
    "\n",
    "# Step 2: Build the model\n",
    "model = Sequential()\n",
    "model.add(Dense(neurons_per_layer, input_dim=input_dim, activation=activation_function))\n",
    "for _ in range(hidden_layers - 1):\n",
    "    model.add(Dense(neurons_per_layer, activation=activation_function))\n",
    "model.add(Dense(output_dim, activation='sigmoid'))  # Output layer\n",
    "\n",
    "# Step 3: Compile the model\n",
    "model.compile(optimizer='adam', loss='binary_crossentropy', metrics=['accuracy'])\n",
    "\n",
    "# Step 4: Train the model\n",
    "epochs = 3\n",
    "batch_size = 32\n",
    "model.fit(X_train, y_train, epochs=epochs, batch_size=batch_size, verbose=1)\n",
    "\n",
    "# Step 5: Evaluate the model\n",
    "loss, accuracy = model.evaluate(X_test, y_test)\n",
    "print(\"Test Loss:\", loss)\n",
    "print(\"Test Accuracy:\", accuracy)"
   ]
  },
  {
   "cell_type": "code",
   "execution_count": null,
   "id": "cf41b5ae",
   "metadata": {},
   "outputs": [],
   "source": []
  }
 ],
 "metadata": {
  "kernelspec": {
   "display_name": "Python 3 (ipykernel)",
   "language": "python",
   "name": "python3"
  },
  "language_info": {
   "codemirror_mode": {
    "name": "ipython",
    "version": 3
   },
   "file_extension": ".py",
   "mimetype": "text/x-python",
   "name": "python",
   "nbconvert_exporter": "python",
   "pygments_lexer": "ipython3",
   "version": "3.11.4"
  }
 },
 "nbformat": 4,
 "nbformat_minor": 5
}
