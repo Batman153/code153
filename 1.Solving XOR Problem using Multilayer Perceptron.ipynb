{
 "cells": [
  {
   "cell_type": "code",
   "execution_count": 13,
   "id": "a1c82880",
   "metadata": {},
   "outputs": [
    {
     "name": "stdout",
     "output_type": "stream",
     "text": [
      "\u001b[1m1/1\u001b[0m \u001b[32m━━━━━━━━━━━━━━━━━━━━\u001b[0m\u001b[37m\u001b[0m \u001b[1m0s\u001b[0m 94ms/step - accuracy: 0.7500 - loss: 0.1676\n",
      "\u001b[1m1/1\u001b[0m \u001b[32m━━━━━━━━━━━━━━━━━━━━\u001b[0m\u001b[37m\u001b[0m \u001b[1m0s\u001b[0m 24ms/step\n",
      "Model Loss: 0.16756492853164673\n",
      "Model Accuracy: 0.75\n",
      "Predictions:\n",
      "Input: [0 0] | Predicted Output: [0.3350537] | Actual Output: [0]\n",
      "Input: [0 1] | Predicted Output: [0.33174747] | Actual Output: [1]\n",
      "Input: [1 0] | Predicted Output: [0.97761923] | Actual Output: [1]\n",
      "Input: [1 1] | Predicted Output: [0.33307114] | Actual Output: [0]\n"
     ]
    }
   ],
   "source": [
    "import numpy as np\n",
    "import tensorflow as tf\n",
    "x_train = np.array([[0, 0], [0, 1], [1, 0], [1, 1]])\n",
    "y_train = np.array([[0], [1], [1], [0]])\n",
    "model = tf.keras.Sequential([tf.keras.layers.Dense(2, input_dim=2,activation='sigmoid'),tf.keras.layers.Dense(1,activation='sigmoid')]) \n",
    "\n",
    "model.compile(optimizer='adam', loss='mean_squared_error', metrics=['accuracy']) \n",
    " \n",
    "model.fit(x_train, y_train, epochs=10000, verbose=0) \n",
    "loss, accuracy = model.evaluate(x_train, y_train) \n",
    "\n",
    "predictions = model.predict(x_train) \n",
    "print(\"Model Loss:\", loss) \n",
    "print(\"Model Accuracy:\", accuracy) \n",
    "print(\"Predictions:\") \n",
    "for i in range(len(x_train)): \n",
    "    print(f\"Input: {x_train[i]} | Predicted Output: {predictions[i]} | Actual Output: {y_train[i]}\") \n"
   ]
  },
  {
   "cell_type": "code",
   "execution_count": null,
   "id": "71f09afe",
   "metadata": {},
   "outputs": [],
   "source": []
  },
  {
   "cell_type": "code",
   "execution_count": null,
   "id": "93739aff",
   "metadata": {},
   "outputs": [],
   "source": []
  }
 ],
 "metadata": {
  "kernelspec": {
   "display_name": "Python 3 (ipykernel)",
   "language": "python",
   "name": "python3"
  },
  "language_info": {
   "codemirror_mode": {
    "name": "ipython",
    "version": 3
   },
   "file_extension": ".py",
   "mimetype": "text/x-python",
   "name": "python",
   "nbconvert_exporter": "python",
   "pygments_lexer": "ipython3",
   "version": "3.11.5"
  }
 },
 "nbformat": 4,
 "nbformat_minor": 5
}
