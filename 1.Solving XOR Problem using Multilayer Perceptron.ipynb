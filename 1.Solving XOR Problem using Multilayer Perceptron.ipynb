{
 "cells": [
  {
   "cell_type": "code",
   "execution_count": null,
   "id": "c6dc2adc",
   "metadata": {},
   "outputs": [],
   "source": [
    "import numpy as np\n",
    "import tensorflow as tf # Define the XOR dataset \n",
    "x_train = np.array([[0, 0], [0, 1], [1, 0], [1, 1]])\n",
    "y_train = np.array([[0], [1], [1], [0]]) # Build the Multilayer Perceptron model \n",
    "model = tf.keras.Sequential([tf.keras.layers.Dense(2, input_dim=2,activation='sigmoid'),tf.keras.layers.Dense(1,activation='sigmoid')]) \n",
    "# Compile the model \n",
    "model.compile(optimizer='adam', loss='mean_squared_error', metrics=['accuracy']) \n",
    "# Train the model \n",
    "model.fit(x_train, y_train, epochs=10000, verbose=0) # Evaluate the model \n",
    "loss, accuracy = model.evaluate(x_train, y_train) \n",
    "# Predict using the trained model \n",
    "predictions = model.predict(x_train) \n",
    "print(\"Model Loss:\", loss) \n",
    "print(\"Model Accuracy:\", accuracy) \n",
    "print(\"Predictions:\") \n",
    "for i in range(len(x_train)): \n",
    "    print(f\"Input: {x_train[i]} | Predicted Output: {predictions[i]} | Actual Output: {y_train[i]}\") \n"
   ]
  },
  {
   "cell_type": "code",
   "execution_count": null,
   "id": "4fc31fd7",
   "metadata": {},
   "outputs": [],
   "source": []
  },
  {
   "cell_type": "code",
   "execution_count": null,
   "id": "576fd548",
   "metadata": {},
   "outputs": [],
   "source": []
  }
 ],
 "metadata": {
  "kernelspec": {
   "display_name": "Python 3 (ipykernel)",
   "language": "python",
   "name": "python3"
  },
  "language_info": {
   "codemirror_mode": {
    "name": "ipython",
    "version": 3
   },
   "file_extension": ".py",
   "mimetype": "text/x-python",
   "name": "python",
   "nbconvert_exporter": "python",
   "pygments_lexer": "ipython3",
   "version": "3.11.5"
  }
 },
 "nbformat": 4,
 "nbformat_minor": 5
}
